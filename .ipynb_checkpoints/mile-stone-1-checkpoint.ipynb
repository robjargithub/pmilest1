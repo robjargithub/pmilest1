{
 "cells": [
  {
   "cell_type": "code",
   "execution_count": 1,
   "id": "6fedc9ee",
   "metadata": {},
   "outputs": [],
   "source": [
    "# tic tac toe\n",
    "#\n",
    "#\n",
    "#\n",
    "#\n",
    "#\n",
    "#\n",
    "#\n",
    "#\n",
    "#"
   ]
  },
  {
   "cell_type": "code",
   "execution_count": 17,
   "id": "5b3d96eb",
   "metadata": {},
   "outputs": [],
   "source": [
    "test_board = ['#','x','o','x','o','x','o','x','o','x'] \n",
    "\n"
   ]
  },
  {
   "cell_type": "code",
   "execution_count": 11,
   "id": "5487a789",
   "metadata": {},
   "outputs": [],
   "source": [
    "from IPython.display import clear_output\n"
   ]
  },
  {
   "cell_type": "code",
   "execution_count": 12,
   "id": "38a6a3e3",
   "metadata": {},
   "outputs": [],
   "source": [
    "def player_input():\n",
    "    while(True):\n",
    "        input_value = input().upper()\n",
    "        #input_value = input_value.upper()\n",
    "        if(input_value == 'X' or input_value == 'O'):\n",
    "            return input_value\n",
    "            \n",
    "            \n",
    "    "
   ]
  },
  {
   "cell_type": "code",
   "execution_count": 20,
   "id": "5647423d",
   "metadata": {},
   "outputs": [
    {
     "name": "stdout",
     "output_type": "stream",
     "text": [
      "X\n"
     ]
    }
   ],
   "source": [
    "x = player_input()\n",
    "clear_output()\n",
    "print(x)"
   ]
  },
  {
   "cell_type": "code",
   "execution_count": 52,
   "id": "d8e0c0c4",
   "metadata": {},
   "outputs": [],
   "source": [
    "def display_board(board):\n",
    "    print(' ' + board[1] + ' ' + '|' + ' ' + board[2] + ' ' + '|' + ' ' + board[3])\n",
    "    print(\"-----------\")\n",
    "    print(' ' + board[4] + ' ' + '|' + ' ' + board[5] + ' ' + '|' + ' ' + board[6])\n",
    "    print(\"-----------\")\n",
    "    print(' ' + board[7] + ' ' + '|' + ' ' + board[8] + ' ' + '|' + ' ' + board[9])\n",
    "    pass"
   ]
  },
  {
   "cell_type": "code",
   "execution_count": 53,
   "id": "7bbbdacf",
   "metadata": {},
   "outputs": [
    {
     "name": "stdout",
     "output_type": "stream",
     "text": [
      " x | o | x\n",
      "-----------\n",
      " o | x | o\n",
      "-----------\n",
      " x | o | x\n"
     ]
    }
   ],
   "source": [
    "display_board(test_board)"
   ]
  },
  {
   "cell_type": "code",
   "execution_count": null,
   "id": "9a5d4465",
   "metadata": {},
   "outputs": [],
   "source": []
  },
  {
   "cell_type": "code",
   "execution_count": null,
   "id": "6efa5052",
   "metadata": {},
   "outputs": [],
   "source": []
  }
 ],
 "metadata": {
  "kernelspec": {
   "display_name": "Python 3 (ipykernel)",
   "language": "python",
   "name": "python3"
  },
  "language_info": {
   "codemirror_mode": {
    "name": "ipython",
    "version": 3
   },
   "file_extension": ".py",
   "mimetype": "text/x-python",
   "name": "python",
   "nbconvert_exporter": "python",
   "pygments_lexer": "ipython3",
   "version": "3.9.7"
  }
 },
 "nbformat": 4,
 "nbformat_minor": 5
}
